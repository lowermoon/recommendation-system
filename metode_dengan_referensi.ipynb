{
 "cells": [
  {
   "cell_type": "code",
   "execution_count": 42,
   "id": "df86ae2a-7590-423e-87cd-44721b97652f",
   "metadata": {},
   "outputs": [],
   "source": [
    "import pandas as pd\n",
    "from tensorflow.keras.models import Model\n",
    "from tensorflow.keras.layers import Input, Embedding, Dot, Flatten\n",
    "from sklearn.model_selection import train_test_split"
   ]
  },
  {
   "cell_type": "code",
   "execution_count": 4,
   "id": "50f8da91-db9c-4e05-b01f-5f0493613873",
   "metadata": {},
   "outputs": [],
   "source": [
    "data_project = pd.read_csv('generate_random_data_project.csv',names=[\"project_id\", \"project_category\"])\n",
    "freelancer_preference = pd.read_csv('new_combined_preferences.csv')"
   ]
  },
  {
   "cell_type": "code",
   "execution_count": 6,
   "id": "cdaaef88-eb25-4443-a328-f6fcc0297772",
   "metadata": {},
   "outputs": [],
   "source": [
    "result_data = []\n",
    "\n",
    "# Loop melalui setiap baris di freelancer_preference\n",
    "for _, row in freelancer_preference.iterrows():\n",
    "    freelancer_id = row['freelancer_id']\n",
    "    \n",
    "    # Loop melalui setiap kolom kecuali 'id_freelancer'\n",
    "    for col in freelancer_preference.columns[1:]:\n",
    "        project_category = col\n",
    "        preference_freelancer = row[col]\n",
    "        \n",
    "        # Filter data_project berdasarkan game_type\n",
    "        filtered_data_project = data_project[data_project['project_category'] == project_category]\n",
    "        \n",
    "        # Loop melalui setiap baris di data_project yang sesuai\n",
    "        for _, project_row in filtered_data_project.iterrows():\n",
    "            project_id = project_row['project_id']\n",
    "            \n",
    "            # Tambahkan data ke list\n",
    "            result_data.append({'project_id': project_id, 'freelancer_id': freelancer_id, 'project_category': project_category, 'preference_freelancer': preference_freelancer})"
   ]
  },
  {
   "cell_type": "code",
   "execution_count": 7,
   "id": "a549b509-1577-4827-b269-139e626676b8",
   "metadata": {},
   "outputs": [],
   "source": [
    "result = pd.DataFrame(result_data)"
   ]
  },
  {
   "cell_type": "code",
   "execution_count": 8,
   "id": "a2e31da5-e486-4275-afd8-e589db8eddd6",
   "metadata": {},
   "outputs": [
    {
     "name": "stdout",
     "output_type": "stream",
     "text": [
      "      project_id  freelancer_id project_category  preference_freelancer\n",
      "0              1              1             Moba                      2\n",
      "1             14              1             Moba                      2\n",
      "2             21              1             Moba                      2\n",
      "3             31              1             Moba                      2\n",
      "4             53              1             Moba                      2\n",
      "...          ...            ...              ...                    ...\n",
      "44795        610             70        Adventure                      5\n",
      "44796        613             70        Adventure                      5\n",
      "44797        615             70        Adventure                      5\n",
      "44798        621             70        Adventure                      5\n",
      "44799        629             70        Adventure                      5\n",
      "\n",
      "[44800 rows x 4 columns]\n"
     ]
    }
   ],
   "source": [
    "print(result)"
   ]
  },
  {
   "cell_type": "code",
   "execution_count": 9,
   "id": "521fda59-36ed-45af-85ee-5e6d6a98b5d6",
   "metadata": {},
   "outputs": [],
   "source": [
    "result.to_csv('new_merged_data.csv', index=False)"
   ]
  },
  {
   "cell_type": "code",
   "execution_count": 12,
   "id": "d978e3ee-86bc-4b37-9691-837d97e3a5d6",
   "metadata": {},
   "outputs": [],
   "source": [
    "#TRAIN MODEL STEP\n",
    "\n",
    "projects = pd.read_csv('generate_random_data_project.csv')\n",
    "preferences = pd.read_csv('new_merged_data.csv')"
   ]
  },
  {
   "cell_type": "code",
   "execution_count": 13,
   "id": "28905ac3-aadb-4a6d-a2b6-025d81815693",
   "metadata": {},
   "outputs": [],
   "source": [
    "n_project = preferences.project_id.nunique()\n",
    "n_freelancer = preferences.freelancer_id.nunique()"
   ]
  },
  {
   "cell_type": "code",
   "execution_count": 16,
   "id": "cebdbf0d-ae38-4c9d-8d24-9432a20b6757",
   "metadata": {},
   "outputs": [],
   "source": [
    "train, test = train_test_split(preferences, test_size=0.2)"
   ]
  },
  {
   "cell_type": "code",
   "execution_count": 74,
   "id": "c6f28743-5a2c-4db2-8d3b-7b02f2b23ad2",
   "metadata": {},
   "outputs": [],
   "source": [
    "EMBEDDING_DIM = 27\n",
    "\n",
    "#input layer\n",
    "project_input = Input(shape=1)\n",
    "freelancer_input = Input(shape=1)\n",
    "\n",
    "#embedding layer\n",
    "project_embedding = Embedding(n_project+1, EMBEDDING_DIM)(project_input)\n",
    "freelancer_embedding = Embedding(n_freelancer+1, EMBEDDING_DIM)(freelancer_input)\n",
    "\n",
    "#flatten layer\n",
    "project_flat = Flatten()(project_embedding)\n",
    "freelancer_flat = Flatten()(freelancer_embedding)\n",
    "\n",
    "#output layer\n",
    "output = Dot(1)([project_flat, freelancer_flat])\n",
    "\n",
    "model = Model([project_input, freelancer_input],[output])"
   ]
  },
  {
   "cell_type": "code",
   "execution_count": 75,
   "id": "1cc70220-e3bd-4562-8811-161dbf48bff8",
   "metadata": {},
   "outputs": [],
   "source": [
    "model.compile(optimizer='adam', loss='mse')"
   ]
  },
  {
   "cell_type": "code",
   "execution_count": 76,
   "id": "bd9210cd-eb3d-4a0f-b1bf-711e82884d05",
   "metadata": {},
   "outputs": [
    {
     "name": "stdout",
     "output_type": "stream",
     "text": [
      "Epoch 1/30\n",
      "280/280 [==============================] - 2s 4ms/step - loss: 14.5790\n",
      "Epoch 2/30\n",
      "280/280 [==============================] - 1s 3ms/step - loss: 5.4438\n",
      "Epoch 3/30\n",
      "280/280 [==============================] - 1s 3ms/step - loss: 1.3691\n",
      "Epoch 4/30\n",
      "280/280 [==============================] - 1s 4ms/step - loss: 1.2535\n",
      "Epoch 5/30\n",
      "280/280 [==============================] - 1s 3ms/step - loss: 1.2302\n",
      "Epoch 6/30\n",
      "280/280 [==============================] - 1s 3ms/step - loss: 1.1825\n",
      "Epoch 7/30\n",
      "280/280 [==============================] - 1s 3ms/step - loss: 1.1167\n",
      "Epoch 8/30\n",
      "280/280 [==============================] - 1s 3ms/step - loss: 1.0543\n",
      "Epoch 9/30\n",
      "280/280 [==============================] - 1s 3ms/step - loss: 1.0091\n",
      "Epoch 10/30\n",
      "280/280 [==============================] - 1s 3ms/step - loss: 0.9815\n",
      "Epoch 11/30\n",
      "280/280 [==============================] - 1s 3ms/step - loss: 0.9654\n",
      "Epoch 12/30\n",
      "280/280 [==============================] - 1s 3ms/step - loss: 0.9543\n",
      "Epoch 13/30\n",
      "280/280 [==============================] - 1s 3ms/step - loss: 0.9458\n",
      "Epoch 14/30\n",
      "280/280 [==============================] - 1s 4ms/step - loss: 0.9344\n",
      "Epoch 15/30\n",
      "280/280 [==============================] - 1s 3ms/step - loss: 0.9198\n",
      "Epoch 16/30\n",
      "280/280 [==============================] - 1s 4ms/step - loss: 0.8993\n",
      "Epoch 17/30\n",
      "280/280 [==============================] - 1s 3ms/step - loss: 0.8704\n",
      "Epoch 18/30\n",
      "280/280 [==============================] - 1s 3ms/step - loss: 0.8303\n",
      "Epoch 19/30\n",
      "280/280 [==============================] - 1s 3ms/step - loss: 0.7763\n",
      "Epoch 20/30\n",
      "280/280 [==============================] - 1s 3ms/step - loss: 0.7083\n",
      "Epoch 21/30\n",
      "280/280 [==============================] - 1s 3ms/step - loss: 0.6267\n",
      "Epoch 22/30\n",
      "280/280 [==============================] - 1s 3ms/step - loss: 0.5351\n",
      "Epoch 23/30\n",
      "280/280 [==============================] - 1s 4ms/step - loss: 0.4386\n",
      "Epoch 24/30\n",
      "280/280 [==============================] - 1s 3ms/step - loss: 0.3443\n",
      "Epoch 25/30\n",
      "280/280 [==============================] - 1s 3ms/step - loss: 0.2577\n",
      "Epoch 26/30\n",
      "280/280 [==============================] - 1s 3ms/step - loss: 0.1841\n",
      "Epoch 27/30\n",
      "280/280 [==============================] - 1s 3ms/step - loss: 0.1243\n",
      "Epoch 28/30\n",
      "280/280 [==============================] - 1s 3ms/step - loss: 0.0783\n",
      "Epoch 29/30\n",
      "280/280 [==============================] - 1s 3ms/step - loss: 0.0451\n",
      "Epoch 30/30\n",
      "280/280 [==============================] - 1s 3ms/step - loss: 0.0235\n"
     ]
    },
    {
     "data": {
      "text/plain": [
       "<keras.src.callbacks.History at 0x26bd3b9b700>"
      ]
     },
     "execution_count": 76,
     "metadata": {},
     "output_type": "execute_result"
    }
   ],
   "source": [
    "model.fit(x=[train.project_id, train.freelancer_id], y=[train.preference_freelancer],\n",
    "         epochs=30, batch_size=128)"
   ]
  },
  {
   "cell_type": "code",
   "execution_count": 77,
   "id": "6f7013c5-760f-422d-920c-8496c3c3d700",
   "metadata": {},
   "outputs": [
    {
     "name": "stdout",
     "output_type": "stream",
     "text": [
      "280/280 [==============================] - 1s 3ms/step - loss: 0.0305\n"
     ]
    },
    {
     "data": {
      "text/plain": [
       "0.03053835779428482"
      ]
     },
     "execution_count": 77,
     "metadata": {},
     "output_type": "execute_result"
    }
   ],
   "source": [
    "model.evaluate(x=[test.project_id, test.freelancer_id], y=[test.preference_freelancer])"
   ]
  },
  {
   "cell_type": "code",
   "execution_count": 78,
   "id": "d4c76567-4272-4c28-adb7-2996ca81af30",
   "metadata": {},
   "outputs": [
    {
     "name": "stdout",
     "output_type": "stream",
     "text": [
      "280/280 [==============================] - 1s 3ms/step\n"
     ]
    }
   ],
   "source": [
    "predictions = model.predict([test.project_id, test.freelancer_id])"
   ]
  },
  {
   "cell_type": "code",
   "execution_count": 79,
   "id": "ddd30656-8318-4cdd-9e7d-6f9d102a45c3",
   "metadata": {},
   "outputs": [
    {
     "name": "stdout",
     "output_type": "stream",
     "text": [
      "Actual Rating: 2, Predicted Rating: 1.998559832572937\n",
      "Actual Rating: 3, Predicted Rating: 3.1291935443878174\n",
      "Actual Rating: 3, Predicted Rating: 2.9185824394226074\n",
      "Actual Rating: 5, Predicted Rating: 4.932645320892334\n",
      "Actual Rating: 5, Predicted Rating: 4.995343208312988\n",
      "Actual Rating: 3, Predicted Rating: 3.208770513534546\n",
      "Actual Rating: 3, Predicted Rating: 3.0705626010894775\n",
      "Actual Rating: 5, Predicted Rating: 4.96804666519165\n",
      "Actual Rating: 5, Predicted Rating: 4.814556121826172\n",
      "Actual Rating: 2, Predicted Rating: 2.013911008834839\n"
     ]
    }
   ],
   "source": [
    "for i in range(10):\n",
    "    print(f\"Actual Rating: {test.preference_freelancer.iloc[i]}, Predicted Rating: {predictions[i][0]}\")"
   ]
  },
  {
   "cell_type": "code",
   "execution_count": 80,
   "id": "f099daa7-f18b-4902-bd7e-9b9224ffcea2",
   "metadata": {},
   "outputs": [],
   "source": [
    "# import numpy as np\n",
    "# import matplotlib.pyplot as plt\n",
    "\n",
    "# def get_recommendations(id_freelancer, projects, model):\n",
    "#     projects = projects.copy()\n",
    "#     id_freelancers = np.array([id_freelancer] * len(projects))\n",
    "#     results = model([projects.id_project.values, id_freelancers]).numpy().reshape(-1)\n",
    "\n",
    "#     projects['predicted_rating'] = pd.Series(results)\n",
    "#     projects = projects.sort_values('predicted_rating', ascending=False)\n",
    "\n",
    "#     print(f'Recommendations for user {id_freelancer}')\n",
    "#     return(projects)\n",
    "\n",
    "# get_recommendations(100, projects, model)"
   ]
  },
  {
   "cell_type": "code",
   "execution_count": 73,
   "id": "d6282022-0045-41ff-94ea-646f15e38732",
   "metadata": {},
   "outputs": [
    {
     "name": "stdout",
     "output_type": "stream",
     "text": [
      "Recommendations for user 49\n"
     ]
    },
    {
     "data": {
      "text/html": [
       "<div>\n",
       "<style scoped>\n",
       "    .dataframe tbody tr th:only-of-type {\n",
       "        vertical-align: middle;\n",
       "    }\n",
       "\n",
       "    .dataframe tbody tr th {\n",
       "        vertical-align: top;\n",
       "    }\n",
       "\n",
       "    .dataframe thead th {\n",
       "        text-align: right;\n",
       "    }\n",
       "</style>\n",
       "<table border=\"1\" class=\"dataframe\">\n",
       "  <thead>\n",
       "    <tr style=\"text-align: right;\">\n",
       "      <th></th>\n",
       "      <th>project_id</th>\n",
       "      <th>project_category</th>\n",
       "      <th>predicted_rating</th>\n",
       "    </tr>\n",
       "  </thead>\n",
       "  <tbody>\n",
       "    <tr>\n",
       "      <th>379</th>\n",
       "      <td>380</td>\n",
       "      <td>FPS</td>\n",
       "      <td>4.803465</td>\n",
       "    </tr>\n",
       "    <tr>\n",
       "      <th>14</th>\n",
       "      <td>15</td>\n",
       "      <td>RPG</td>\n",
       "      <td>4.783336</td>\n",
       "    </tr>\n",
       "    <tr>\n",
       "      <th>133</th>\n",
       "      <td>134</td>\n",
       "      <td>Horor</td>\n",
       "      <td>4.776846</td>\n",
       "    </tr>\n",
       "    <tr>\n",
       "      <th>28</th>\n",
       "      <td>29</td>\n",
       "      <td>Horor</td>\n",
       "      <td>4.747767</td>\n",
       "    </tr>\n",
       "    <tr>\n",
       "      <th>436</th>\n",
       "      <td>437</td>\n",
       "      <td>FPS</td>\n",
       "      <td>4.741912</td>\n",
       "    </tr>\n",
       "    <tr>\n",
       "      <th>...</th>\n",
       "      <td>...</td>\n",
       "      <td>...</td>\n",
       "      <td>...</td>\n",
       "    </tr>\n",
       "    <tr>\n",
       "      <th>464</th>\n",
       "      <td>465</td>\n",
       "      <td>Moba</td>\n",
       "      <td>2.810465</td>\n",
       "    </tr>\n",
       "    <tr>\n",
       "      <th>492</th>\n",
       "      <td>493</td>\n",
       "      <td>Moba</td>\n",
       "      <td>2.803924</td>\n",
       "    </tr>\n",
       "    <tr>\n",
       "      <th>208</th>\n",
       "      <td>209</td>\n",
       "      <td>Moba</td>\n",
       "      <td>2.797796</td>\n",
       "    </tr>\n",
       "    <tr>\n",
       "      <th>414</th>\n",
       "      <td>415</td>\n",
       "      <td>Moba</td>\n",
       "      <td>2.752489</td>\n",
       "    </tr>\n",
       "    <tr>\n",
       "      <th>81</th>\n",
       "      <td>82</td>\n",
       "      <td>Moba</td>\n",
       "      <td>2.744440</td>\n",
       "    </tr>\n",
       "  </tbody>\n",
       "</table>\n",
       "<p>640 rows × 3 columns</p>\n",
       "</div>"
      ],
      "text/plain": [
       "     project_id  project_category  predicted_rating\n",
       "379         380               FPS          4.803465\n",
       "14           15               RPG          4.783336\n",
       "133         134             Horor          4.776846\n",
       "28           29             Horor          4.747767\n",
       "436         437               FPS          4.741912\n",
       "..          ...               ...               ...\n",
       "464         465              Moba          2.810465\n",
       "492         493              Moba          2.803924\n",
       "208         209              Moba          2.797796\n",
       "414         415              Moba          2.752489\n",
       "81           82              Moba          2.744440\n",
       "\n",
       "[640 rows x 3 columns]"
      ]
     },
     "execution_count": 73,
     "metadata": {},
     "output_type": "execute_result"
    }
   ],
   "source": [
    "import numpy as np\n",
    "import tensorflow as tf\n",
    "import pandas as pd\n",
    "\n",
    "def get_recommendations(freelancer_id, projects, model):\n",
    "    try:\n",
    "        projects = projects.copy()\n",
    "        id_freelancers = np.array([freelancer_id] * len(projects))\n",
    "        results = model([projects.project_id.values, id_freelancers]).numpy().reshape(-1)\n",
    "\n",
    "        projects['predicted_rating'] = pd.Series(results)\n",
    "        projects = projects.sort_values('predicted_rating', ascending=False)\n",
    "\n",
    "        print(f'Recommendations for user {freelancer_id}')\n",
    "        return projects\n",
    "    except tf.errors.InvalidArgumentError:\n",
    "        print(f'User {freelancer_id} not found. Returning random recommendations.')\n",
    "        # Menggunakan np.random.randint untuk mendapatkan nilai random_state yang berbeda setiap kali dijalankan\n",
    "        random_state = np.random.randint(1, 100)\n",
    "        projects = projects.sample(n=10, random_state=random_state)\n",
    "        return projects\n",
    "\n",
    "# Contoh pemanggilan fungsi\n",
    "get_recommendations(49, projects, model)\n"
   ]
  },
  {
   "cell_type": "code",
   "execution_count": 19,
   "id": "fd2888fa-993a-4b6d-bb59-6a7fb344f66f",
   "metadata": {},
   "outputs": [
    {
     "name": "stdout",
     "output_type": "stream",
     "text": [
      "Model: \"model\"\n",
      "__________________________________________________________________________________________________\n",
      " Layer (type)                Output Shape                 Param #   Connected to                  \n",
      "==================================================================================================\n",
      " input_1 (InputLayer)        [(None, 1)]                  0         []                            \n",
      "                                                                                                  \n",
      " input_2 (InputLayer)        [(None, 1)]                  0         []                            \n",
      "                                                                                                  \n",
      " embedding (Embedding)       (None, 1, 30)                38430     ['input_1[0][0]']             \n",
      "                                                                                                  \n",
      " embedding_1 (Embedding)     (None, 1, 30)                2130      ['input_2[0][0]']             \n",
      "                                                                                                  \n",
      " flatten (Flatten)           (None, 30)                   0         ['embedding[0][0]']           \n",
      "                                                                                                  \n",
      " flatten_1 (Flatten)         (None, 30)                   0         ['embedding_1[0][0]']         \n",
      "                                                                                                  \n",
      " dot (Dot)                   (None, 1)                    0         ['flatten[0][0]',             \n",
      "                                                                     'flatten_1[0][0]']           \n",
      "                                                                                                  \n",
      "==================================================================================================\n",
      "Total params: 40560 (158.44 KB)\n",
      "Trainable params: 40560 (158.44 KB)\n",
      "Non-trainable params: 0 (0.00 Byte)\n",
      "__________________________________________________________________________________________________\n"
     ]
    }
   ],
   "source": [
    "model.summary()"
   ]
  },
  {
   "cell_type": "code",
   "execution_count": 81,
   "id": "8231fe92-b4c5-45b0-b9bc-78ad612158a4",
   "metadata": {},
   "outputs": [
    {
     "name": "stderr",
     "output_type": "stream",
     "text": [
      "c:\\users\\crozi\\appdata\\local\\programs\\python\\python39\\lib\\site-packages\\keras\\src\\engine\\training.py:3000: UserWarning: You are saving your model as an HDF5 file via `model.save()`. This file format is considered legacy. We recommend using instead the native Keras format, e.g. `model.save('my_model.keras')`.\n",
      "  saving_api.save_model(\n"
     ]
    }
   ],
   "source": [
    "model.save('recommendermodel.h5')"
   ]
  },
  {
   "cell_type": "code",
   "execution_count": null,
   "id": "fdda07ef-9831-47fc-87fc-20e5b5679964",
   "metadata": {},
   "outputs": [],
   "source": []
  }
 ],
 "metadata": {
  "kernelspec": {
   "display_name": "Python 3 (ipykernel)",
   "language": "python",
   "name": "python3"
  },
  "language_info": {
   "codemirror_mode": {
    "name": "ipython",
    "version": 3
   },
   "file_extension": ".py",
   "mimetype": "text/x-python",
   "name": "python",
   "nbconvert_exporter": "python",
   "pygments_lexer": "ipython3",
   "version": "3.9.2"
  }
 },
 "nbformat": 4,
 "nbformat_minor": 5
}
