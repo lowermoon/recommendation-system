{
 "cells": [
  {
   "cell_type": "code",
   "execution_count": 1,
   "id": "df86ae2a-7590-423e-87cd-44721b97652f",
   "metadata": {},
   "outputs": [],
   "source": [
    "import pandas as pd\n",
    "from tensorflow.keras.models import Model\n",
    "from tensorflow.keras.layers import Input, Embedding, Dot, Flatten\n",
    "from sklearn.model_selection import train_test_split"
   ]
  },
  {
   "cell_type": "code",
   "execution_count": 2,
   "id": "50f8da91-db9c-4e05-b01f-5f0493613873",
   "metadata": {},
   "outputs": [],
   "source": [
    "data_project = pd.read_csv('generate_random_data_project.csv',names=[\"id_project\", \"game_type\"])\n",
    "freelancer_preference = pd.read_csv('new_combined_preferences.csv')"
   ]
  },
  {
   "cell_type": "code",
   "execution_count": 3,
   "id": "cdaaef88-eb25-4443-a328-f6fcc0297772",
   "metadata": {},
   "outputs": [],
   "source": [
    "result_data = []\n",
    "\n",
    "# Loop melalui setiap baris di freelancer_preference\n",
    "for _, row in freelancer_preference.iterrows():\n",
    "    id_freelancer = row['id_freelancer']\n",
    "    \n",
    "    # Loop melalui setiap kolom kecuali 'id_freelancer'\n",
    "    for col in freelancer_preference.columns[1:]:\n",
    "        game_type = col\n",
    "        preference_freelancer = row[col]\n",
    "        \n",
    "        # Filter data_project berdasarkan game_type\n",
    "        filtered_data_project = data_project[data_project['game_type'] == game_type]\n",
    "        \n",
    "        # Loop melalui setiap baris di data_project yang sesuai\n",
    "        for _, project_row in filtered_data_project.iterrows():\n",
    "            id_project = project_row['id_project']\n",
    "            \n",
    "            # Tambahkan data ke list\n",
    "            result_data.append({'id_project': id_project, 'id_freelancer': id_freelancer, 'game_type': game_type, 'preference_freelancer': preference_freelancer})"
   ]
  },
  {
   "cell_type": "code",
   "execution_count": 4,
   "id": "a549b509-1577-4827-b269-139e626676b8",
   "metadata": {},
   "outputs": [],
   "source": [
    "result = pd.DataFrame(result_data)"
   ]
  },
  {
   "cell_type": "code",
   "execution_count": 5,
   "id": "a2e31da5-e486-4275-afd8-e589db8eddd6",
   "metadata": {},
   "outputs": [
    {
     "name": "stdout",
     "output_type": "stream",
     "text": [
      "      id_project  id_freelancer  game_type  preference_freelancer\n",
      "0              1              1       Moba                      2\n",
      "1             14              1       Moba                      2\n",
      "2             21              1       Moba                      2\n",
      "3             31              1       Moba                      2\n",
      "4             53              1       Moba                      2\n",
      "...          ...            ...        ...                    ...\n",
      "89595       1247             70  Adventure                      5\n",
      "89596       1254             70  Adventure                      5\n",
      "89597       1256             70  Adventure                      5\n",
      "89598       1262             70  Adventure                      5\n",
      "89599       1274             70  Adventure                      5\n",
      "\n",
      "[89600 rows x 4 columns]\n"
     ]
    }
   ],
   "source": [
    "print(result)"
   ]
  },
  {
   "cell_type": "code",
   "execution_count": 6,
   "id": "521fda59-36ed-45af-85ee-5e6d6a98b5d6",
   "metadata": {},
   "outputs": [],
   "source": [
    "# result.to_csv('new_merged_data.csv', index=False)"
   ]
  },
  {
   "cell_type": "code",
   "execution_count": 7,
   "id": "d978e3ee-86bc-4b37-9691-837d97e3a5d6",
   "metadata": {},
   "outputs": [],
   "source": [
    "projects = pd.read_csv('generate_random_data_project.csv')\n",
    "preferences = pd.read_csv('new_merged_data.csv')"
   ]
  },
  {
   "cell_type": "code",
   "execution_count": 8,
   "id": "28905ac3-aadb-4a6d-a2b6-025d81815693",
   "metadata": {},
   "outputs": [],
   "source": [
    "n_project = preferences.id_project.nunique()\n",
    "n_freelancer = preferences.id_freelancer.nunique()"
   ]
  },
  {
   "cell_type": "code",
   "execution_count": 9,
   "id": "cebdbf0d-ae38-4c9d-8d24-9432a20b6757",
   "metadata": {},
   "outputs": [],
   "source": [
    "train, test = train_test_split(preferences, test_size=0.2)"
   ]
  },
  {
   "cell_type": "code",
   "execution_count": 10,
   "id": "c6f28743-5a2c-4db2-8d3b-7b02f2b23ad2",
   "metadata": {},
   "outputs": [],
   "source": [
    "EMBEDDING_DIM = 30\n",
    "\n",
    "#input layer\n",
    "project_input = Input(shape=1)\n",
    "freelancer_input = Input(shape=1)\n",
    "\n",
    "#embedding layer\n",
    "project_embedding = Embedding(n_project+1, EMBEDDING_DIM)(project_input)\n",
    "freelancer_embedding = Embedding(n_freelancer+1, EMBEDDING_DIM)(freelancer_input)\n",
    "\n",
    "#flatten layer\n",
    "project_flat = Flatten()(project_embedding)\n",
    "freelancer_flat = Flatten()(freelancer_embedding)\n",
    "\n",
    "#output layer\n",
    "output = Dot(1)([project_flat, freelancer_flat])\n",
    "\n",
    "model = Model([project_input, freelancer_input],[output])"
   ]
  },
  {
   "cell_type": "code",
   "execution_count": 11,
   "id": "1cc70220-e3bd-4562-8811-161dbf48bff8",
   "metadata": {},
   "outputs": [],
   "source": [
    "model.compile(optimizer='adam', loss='mse')"
   ]
  },
  {
   "cell_type": "code",
   "execution_count": 12,
   "id": "bd9210cd-eb3d-4a0f-b1bf-711e82884d05",
   "metadata": {},
   "outputs": [
    {
     "name": "stdout",
     "output_type": "stream",
     "text": [
      "Epoch 1/30\n",
      "560/560 [==============================] - 3s 4ms/step - loss: 11.8990\n",
      "Epoch 2/30\n",
      "560/560 [==============================] - 2s 4ms/step - loss: 1.5575\n",
      "Epoch 3/30\n",
      "560/560 [==============================] - 2s 4ms/step - loss: 1.2766\n",
      "Epoch 4/30\n",
      "560/560 [==============================] - 2s 4ms/step - loss: 1.2722\n",
      "Epoch 5/30\n",
      "560/560 [==============================] - 2s 4ms/step - loss: 1.2495\n",
      "Epoch 6/30\n",
      "560/560 [==============================] - 2s 3ms/step - loss: 1.1729\n",
      "Epoch 7/30\n",
      "560/560 [==============================] - 2s 3ms/step - loss: 1.0684\n",
      "Epoch 8/30\n",
      "560/560 [==============================] - 2s 3ms/step - loss: 0.9786\n",
      "Epoch 9/30\n",
      "560/560 [==============================] - 2s 3ms/step - loss: 0.8932\n",
      "Epoch 10/30\n",
      "560/560 [==============================] - 2s 4ms/step - loss: 0.7837\n",
      "Epoch 11/30\n",
      "560/560 [==============================] - 2s 3ms/step - loss: 0.6419\n",
      "Epoch 12/30\n",
      "560/560 [==============================] - 2s 3ms/step - loss: 0.4852\n",
      "Epoch 13/30\n",
      "560/560 [==============================] - 2s 4ms/step - loss: 0.3319\n",
      "Epoch 14/30\n",
      "560/560 [==============================] - 2s 4ms/step - loss: 0.2015\n",
      "Epoch 15/30\n",
      "560/560 [==============================] - 2s 4ms/step - loss: 0.1053\n",
      "Epoch 16/30\n",
      "560/560 [==============================] - 2s 4ms/step - loss: 0.0435\n",
      "Epoch 17/30\n",
      "560/560 [==============================] - 2s 4ms/step - loss: 0.0127\n",
      "Epoch 18/30\n",
      "560/560 [==============================] - 2s 4ms/step - loss: 0.0028\n",
      "Epoch 19/30\n",
      "560/560 [==============================] - 2s 4ms/step - loss: 6.3245e-04\n",
      "Epoch 20/30\n",
      "560/560 [==============================] - 2s 4ms/step - loss: 2.0451e-04\n",
      "Epoch 21/30\n",
      "560/560 [==============================] - 2s 3ms/step - loss: 1.8380e-04\n",
      "Epoch 22/30\n",
      "560/560 [==============================] - 2s 4ms/step - loss: 3.7197e-04\n",
      "Epoch 23/30\n",
      "560/560 [==============================] - 2s 4ms/step - loss: 4.8554e-04\n",
      "Epoch 24/30\n",
      "560/560 [==============================] - 2s 4ms/step - loss: 5.0796e-04\n",
      "Epoch 25/30\n",
      "560/560 [==============================] - 2s 4ms/step - loss: 8.9297e-04\n",
      "Epoch 26/30\n",
      "560/560 [==============================] - 2s 4ms/step - loss: 0.0016\n",
      "Epoch 27/30\n",
      "560/560 [==============================] - 2s 3ms/step - loss: 0.0017\n",
      "Epoch 28/30\n",
      "560/560 [==============================] - 2s 4ms/step - loss: 0.0014\n",
      "Epoch 29/30\n",
      "560/560 [==============================] - 2s 3ms/step - loss: 0.0015\n",
      "Epoch 30/30\n",
      "560/560 [==============================] - 2s 4ms/step - loss: 0.0016\n"
     ]
    },
    {
     "data": {
      "text/plain": [
       "<keras.src.callbacks.History at 0x1a9301ef190>"
      ]
     },
     "execution_count": 12,
     "metadata": {},
     "output_type": "execute_result"
    }
   ],
   "source": [
    "model.fit(x=[train.id_project, train.id_freelancer], y=[train.preference_freelancer],\n",
    "         epochs=30, batch_size=128)"
   ]
  },
  {
   "cell_type": "code",
   "execution_count": 13,
   "id": "6f7013c5-760f-422d-920c-8496c3c3d700",
   "metadata": {},
   "outputs": [
    {
     "name": "stdout",
     "output_type": "stream",
     "text": [
      "560/560 [==============================] - 2s 3ms/step - loss: 0.0017\n"
     ]
    },
    {
     "data": {
      "text/plain": [
       "0.0016578680370002985"
      ]
     },
     "execution_count": 13,
     "metadata": {},
     "output_type": "execute_result"
    }
   ],
   "source": [
    "model.evaluate(x=[test.id_project, test.id_freelancer], y=[test.preference_freelancer])"
   ]
  },
  {
   "cell_type": "code",
   "execution_count": 14,
   "id": "d4c76567-4272-4c28-adb7-2996ca81af30",
   "metadata": {},
   "outputs": [
    {
     "name": "stdout",
     "output_type": "stream",
     "text": [
      "560/560 [==============================] - 2s 3ms/step\n"
     ]
    }
   ],
   "source": [
    "predictions = model.predict([test.id_project, test.id_freelancer])"
   ]
  },
  {
   "cell_type": "code",
   "execution_count": 15,
   "id": "ddd30656-8318-4cdd-9e7d-6f9d102a45c3",
   "metadata": {},
   "outputs": [
    {
     "name": "stdout",
     "output_type": "stream",
     "text": [
      "Actual Rating: 5, Predicted Rating: 4.967432022094727\n",
      "Actual Rating: 3, Predicted Rating: 2.9577767848968506\n",
      "Actual Rating: 3, Predicted Rating: 3.1345834732055664\n",
      "Actual Rating: 4, Predicted Rating: 3.9838085174560547\n",
      "Actual Rating: 2, Predicted Rating: 2.0051963329315186\n",
      "Actual Rating: 5, Predicted Rating: 5.012701511383057\n",
      "Actual Rating: 3, Predicted Rating: 2.9991443157196045\n",
      "Actual Rating: 4, Predicted Rating: 3.9565746784210205\n",
      "Actual Rating: 2, Predicted Rating: 2.0089874267578125\n",
      "Actual Rating: 4, Predicted Rating: 3.923888683319092\n"
     ]
    }
   ],
   "source": [
    "for i in range(10):\n",
    "    print(f\"Actual Rating: {test.preference_freelancer.iloc[i]}, Predicted Rating: {predictions[i][0]}\")"
   ]
  },
  {
   "cell_type": "code",
   "execution_count": 22,
   "id": "f099daa7-f18b-4902-bd7e-9b9224ffcea2",
   "metadata": {},
   "outputs": [],
   "source": [
    "# import numpy as np\n",
    "# import matplotlib.pyplot as plt\n",
    "\n",
    "# def get_recommendations(id_freelancer, projects, model):\n",
    "#     projects = projects.copy()\n",
    "#     id_freelancers = np.array([id_freelancer] * len(projects))\n",
    "#     results = model([projects.id_project.values, id_freelancers]).numpy().reshape(-1)\n",
    "\n",
    "#     projects['predicted_rating'] = pd.Series(results)\n",
    "#     projects = projects.sort_values('predicted_rating', ascending=False)\n",
    "\n",
    "#     print(f'Recommendations for user {id_freelancer}')\n",
    "#     return(projects)\n",
    "\n",
    "# get_recommendations(100, projects, model)"
   ]
  },
  {
   "cell_type": "code",
   "execution_count": 43,
   "id": "d6282022-0045-41ff-94ea-646f15e38732",
   "metadata": {},
   "outputs": [
    {
     "name": "stdout",
     "output_type": "stream",
     "text": [
      "User 777 not found. Returning random recommendations.\n"
     ]
    },
    {
     "data": {
      "text/html": [
       "<div>\n",
       "<style scoped>\n",
       "    .dataframe tbody tr th:only-of-type {\n",
       "        vertical-align: middle;\n",
       "    }\n",
       "\n",
       "    .dataframe tbody tr th {\n",
       "        vertical-align: top;\n",
       "    }\n",
       "\n",
       "    .dataframe thead th {\n",
       "        text-align: right;\n",
       "    }\n",
       "</style>\n",
       "<table border=\"1\" class=\"dataframe\">\n",
       "  <thead>\n",
       "    <tr style=\"text-align: right;\">\n",
       "      <th></th>\n",
       "      <th>id_project</th>\n",
       "      <th>game_type</th>\n",
       "    </tr>\n",
       "  </thead>\n",
       "  <tbody>\n",
       "    <tr>\n",
       "      <th>522</th>\n",
       "      <td>523</td>\n",
       "      <td>Sports</td>\n",
       "    </tr>\n",
       "    <tr>\n",
       "      <th>256</th>\n",
       "      <td>257</td>\n",
       "      <td>RPG</td>\n",
       "    </tr>\n",
       "    <tr>\n",
       "      <th>18</th>\n",
       "      <td>19</td>\n",
       "      <td>Horor</td>\n",
       "    </tr>\n",
       "    <tr>\n",
       "      <th>818</th>\n",
       "      <td>819</td>\n",
       "      <td>FPS</td>\n",
       "    </tr>\n",
       "    <tr>\n",
       "      <th>965</th>\n",
       "      <td>966</td>\n",
       "      <td>Open World</td>\n",
       "    </tr>\n",
       "    <tr>\n",
       "      <th>181</th>\n",
       "      <td>182</td>\n",
       "      <td>Horor</td>\n",
       "    </tr>\n",
       "    <tr>\n",
       "      <th>830</th>\n",
       "      <td>831</td>\n",
       "      <td>Battle Royal</td>\n",
       "    </tr>\n",
       "    <tr>\n",
       "      <th>553</th>\n",
       "      <td>554</td>\n",
       "      <td>Puzzle</td>\n",
       "    </tr>\n",
       "    <tr>\n",
       "      <th>762</th>\n",
       "      <td>763</td>\n",
       "      <td>RPG</td>\n",
       "    </tr>\n",
       "    <tr>\n",
       "      <th>1234</th>\n",
       "      <td>1235</td>\n",
       "      <td>Moba</td>\n",
       "    </tr>\n",
       "  </tbody>\n",
       "</table>\n",
       "</div>"
      ],
      "text/plain": [
       "      id_project     game_type\n",
       "522          523        Sports\n",
       "256          257           RPG\n",
       "18            19         Horor\n",
       "818          819           FPS\n",
       "965          966    Open World\n",
       "181          182         Horor\n",
       "830          831  Battle Royal\n",
       "553          554        Puzzle\n",
       "762          763           RPG\n",
       "1234        1235          Moba"
      ]
     },
     "execution_count": 43,
     "metadata": {},
     "output_type": "execute_result"
    }
   ],
   "source": [
    "import numpy as np\n",
    "import tensorflow as tf\n",
    "import pandas as pd\n",
    "\n",
    "def get_recommendations(id_freelancer, projects, model):\n",
    "    try:\n",
    "        projects = projects.copy()\n",
    "        id_freelancers = np.array([id_freelancer] * len(projects))\n",
    "        results = model([projects.id_project.values, id_freelancers]).numpy().reshape(-1)\n",
    "\n",
    "        projects['predicted_rating'] = pd.Series(results)\n",
    "        projects = projects.sort_values('predicted_rating', ascending=False)\n",
    "\n",
    "        print(f'Recommendations for user {id_freelancer}')\n",
    "        return projects\n",
    "    except tf.errors.InvalidArgumentError:\n",
    "        print(f'User {id_freelancer} not found. Returning random recommendations.')\n",
    "        # Menggunakan np.random.randint untuk mendapatkan nilai random_state yang berbeda setiap kali dijalankan\n",
    "        random_state = np.random.randint(1, 100)\n",
    "        projects = projects.sample(n=10, random_state=random_state)\n",
    "        return projects\n",
    "\n",
    "# Contoh pemanggilan fungsi\n",
    "get_recommendations(777, projects, model)\n"
   ]
  },
  {
   "cell_type": "code",
   "execution_count": 19,
   "id": "fd2888fa-993a-4b6d-bb59-6a7fb344f66f",
   "metadata": {},
   "outputs": [
    {
     "name": "stdout",
     "output_type": "stream",
     "text": [
      "Model: \"model\"\n",
      "__________________________________________________________________________________________________\n",
      " Layer (type)                Output Shape                 Param #   Connected to                  \n",
      "==================================================================================================\n",
      " input_1 (InputLayer)        [(None, 1)]                  0         []                            \n",
      "                                                                                                  \n",
      " input_2 (InputLayer)        [(None, 1)]                  0         []                            \n",
      "                                                                                                  \n",
      " embedding (Embedding)       (None, 1, 30)                38430     ['input_1[0][0]']             \n",
      "                                                                                                  \n",
      " embedding_1 (Embedding)     (None, 1, 30)                2130      ['input_2[0][0]']             \n",
      "                                                                                                  \n",
      " flatten (Flatten)           (None, 30)                   0         ['embedding[0][0]']           \n",
      "                                                                                                  \n",
      " flatten_1 (Flatten)         (None, 30)                   0         ['embedding_1[0][0]']         \n",
      "                                                                                                  \n",
      " dot (Dot)                   (None, 1)                    0         ['flatten[0][0]',             \n",
      "                                                                     'flatten_1[0][0]']           \n",
      "                                                                                                  \n",
      "==================================================================================================\n",
      "Total params: 40560 (158.44 KB)\n",
      "Trainable params: 40560 (158.44 KB)\n",
      "Non-trainable params: 0 (0.00 Byte)\n",
      "__________________________________________________________________________________________________\n"
     ]
    }
   ],
   "source": [
    "model.summary()"
   ]
  },
  {
   "cell_type": "code",
   "execution_count": 20,
   "id": "8231fe92-b4c5-45b0-b9bc-78ad612158a4",
   "metadata": {},
   "outputs": [
    {
     "name": "stderr",
     "output_type": "stream",
     "text": [
      "c:\\users\\crozi\\appdata\\local\\programs\\python\\python39\\lib\\site-packages\\keras\\src\\engine\\training.py:3000: UserWarning: You are saving your model as an HDF5 file via `model.save()`. This file format is considered legacy. We recommend using instead the native Keras format, e.g. `model.save('my_model.keras')`.\n",
      "  saving_api.save_model(\n"
     ]
    }
   ],
   "source": [
    "model.save('recommender_model.h5')"
   ]
  },
  {
   "cell_type": "code",
   "execution_count": null,
   "id": "fdda07ef-9831-47fc-87fc-20e5b5679964",
   "metadata": {},
   "outputs": [],
   "source": []
  }
 ],
 "metadata": {
  "kernelspec": {
   "display_name": "Python 3 (ipykernel)",
   "language": "python",
   "name": "python3"
  },
  "language_info": {
   "codemirror_mode": {
    "name": "ipython",
    "version": 3
   },
   "file_extension": ".py",
   "mimetype": "text/x-python",
   "name": "python",
   "nbconvert_exporter": "python",
   "pygments_lexer": "ipython3",
   "version": "3.9.2"
  }
 },
 "nbformat": 4,
 "nbformat_minor": 5
}
