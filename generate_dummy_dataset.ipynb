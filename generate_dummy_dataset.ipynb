{
  "nbformat": 4,
  "nbformat_minor": 0,
  "metadata": {
    "colab": {
      "provenance": []
    },
    "kernelspec": {
      "name": "python3",
      "display_name": "Python 3"
    },
    "language_info": {
      "name": "python"
    }
  },
  "cells": [
    {
      "cell_type": "code",
      "execution_count": 16,
      "metadata": {
        "id": "96VQNLSSYtRD"
      },
      "outputs": [],
      "source": [
        "from google.colab import files\n",
        "import csv\n",
        "import random"
      ]
    },
    {
      "cell_type": "code",
      "source": [
        "# rows\n",
        "skills = ['Beginner', 'Intermediate', 'Advanced']\n",
        "genres = ['RPG', 'FPS', 'Strategy', 'Adventure', 'Puzzle', 'Simulation', 'Sports', 'Racing', 'Platformer']\n",
        "experiences = ['6 months', '1 year', '1.5 years', '2 years', '2.5 years', '3 years', '4 years', '5 years']\n",
        "difficulties = ['Easy', 'Moderate', 'Challenging', 'Difficult']"
      ],
      "metadata": {
        "id": "dx9jTCajYxI0"
      },
      "execution_count": 17,
      "outputs": []
    },
    {
      "cell_type": "code",
      "source": [
        "# Generate 5000 entri data dummy secara acak\n",
        "data = []\n",
        "for i in range(1, 5001):\n",
        "    entry = {\n",
        "        'ID': i,\n",
        "        'Skill': random.choice(skills),\n",
        "        'Genre': random.choice(genres),\n",
        "        'Experience': random.choice(experiences),\n",
        "        'Difficulty Rating': random.choice(difficulties)\n",
        "    }\n",
        "    data.append(entry)\n"
      ],
      "metadata": {
        "id": "oGnLEw75YxRJ"
      },
      "execution_count": 18,
      "outputs": []
    },
    {
      "cell_type": "code",
      "source": [
        "# save file\n",
        "csv_columns = ['ID', 'Skill', 'Genre', 'Experience', 'Difficulty Rating']\n",
        "csv_file_path = '/content/dummy_dataset.csv'"
      ],
      "metadata": {
        "id": "-K8MJDCqY06l"
      },
      "execution_count": 21,
      "outputs": []
    },
    {
      "cell_type": "code",
      "source": [
        "try:\n",
        "    with open(csv_file_path, 'w', newline='') as csvfile:\n",
        "        writer = csv.DictWriter(csvfile, fieldnames=csv_columns)\n",
        "        writer.writeheader()\n",
        "        for entry in data:\n",
        "            writer.writerow(entry)\n",
        "    print(f\"Data telah disimpan dalam file '{csv_file_path}'\")\n",
        "except IOError:\n",
        "    print(\"Error: Gagal menyimpan data ke file CSV\")\n",
        "\n",
        "# download file\n",
        "files.download(csv_file_path)\n"
      ],
      "metadata": {
        "colab": {
          "base_uri": "https://localhost:8080/",
          "height": 34
        },
        "id": "iOTpeIA5dK54",
        "outputId": "9011fa23-8f07-4ca6-9029-b3ea66f09b27"
      },
      "execution_count": 22,
      "outputs": [
        {
          "output_type": "stream",
          "name": "stdout",
          "text": [
            "Data telah disimpan dalam file '/content/dummy_dataset.csv'\n"
          ]
        },
        {
          "output_type": "display_data",
          "data": {
            "text/plain": [
              "<IPython.core.display.Javascript object>"
            ],
            "application/javascript": [
              "\n",
              "    async function download(id, filename, size) {\n",
              "      if (!google.colab.kernel.accessAllowed) {\n",
              "        return;\n",
              "      }\n",
              "      const div = document.createElement('div');\n",
              "      const label = document.createElement('label');\n",
              "      label.textContent = `Downloading \"${filename}\": `;\n",
              "      div.appendChild(label);\n",
              "      const progress = document.createElement('progress');\n",
              "      progress.max = size;\n",
              "      div.appendChild(progress);\n",
              "      document.body.appendChild(div);\n",
              "\n",
              "      const buffers = [];\n",
              "      let downloaded = 0;\n",
              "\n",
              "      const channel = await google.colab.kernel.comms.open(id);\n",
              "      // Send a message to notify the kernel that we're ready.\n",
              "      channel.send({})\n",
              "\n",
              "      for await (const message of channel.messages) {\n",
              "        // Send a message to notify the kernel that we're ready.\n",
              "        channel.send({})\n",
              "        if (message.buffers) {\n",
              "          for (const buffer of message.buffers) {\n",
              "            buffers.push(buffer);\n",
              "            downloaded += buffer.byteLength;\n",
              "            progress.value = downloaded;\n",
              "          }\n",
              "        }\n",
              "      }\n",
              "      const blob = new Blob(buffers, {type: 'application/binary'});\n",
              "      const a = document.createElement('a');\n",
              "      a.href = window.URL.createObjectURL(blob);\n",
              "      a.download = filename;\n",
              "      div.appendChild(a);\n",
              "      a.click();\n",
              "      div.remove();\n",
              "    }\n",
              "  "
            ]
          },
          "metadata": {}
        },
        {
          "output_type": "display_data",
          "data": {
            "text/plain": [
              "<IPython.core.display.Javascript object>"
            ],
            "application/javascript": [
              "download(\"download_6d25f693-2ba9-46da-8e52-a1f5686321ed\", \"dummy_dataset.csv\", 207345)"
            ]
          },
          "metadata": {}
        }
      ]
    }
  ]
}