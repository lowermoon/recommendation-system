{
  "nbformat": 4,
  "nbformat_minor": 0,
  "metadata": {
    "colab": {
      "provenance": []
    },
    "kernelspec": {
      "name": "python3",
      "display_name": "Python 3"
    },
    "language_info": {
      "name": "python"
    }
  },
  "cells": [
    {
      "cell_type": "code",
      "execution_count": 1,
      "metadata": {
        "id": "96VQNLSSYtRD"
      },
      "outputs": [],
      "source": [
        "import csv\n",
        "import random"
      ]
    },
    {
      "cell_type": "code",
      "source": [
        "# attributes\n",
        "skills = ['Beginner', 'Intermediate', 'Advanced']\n",
        "genres = ['RPG', 'FPS', 'Strategy', 'Adventure', 'Puzzle', 'Simulation', 'Sports', 'Racing', 'Platformer']\n",
        "experiences = ['6 months', '1 year', '1.5 years', '2 years', '2.5 years', '3 years', '4 years', '5 years']\n",
        "difficulties = ['Easy', 'Moderate', 'Challenging', 'Difficult']"
      ],
      "metadata": {
        "id": "dx9jTCajYxI0"
      },
      "execution_count": 2,
      "outputs": []
    },
    {
      "cell_type": "code",
      "source": [
        "# Generate random 100 data entries\n",
        "data = []\n",
        "for i in range(1, 101):\n",
        "    entry = {\n",
        "        'ID': i,\n",
        "        'Skill': random.choice(skills),\n",
        "        'Genre': random.choice(genres),\n",
        "        'Experience': random.choice(experiences),\n",
        "        'Difficulty Rating': random.choice(difficulties)\n",
        "    }\n",
        "    data.append(entry)\n"
      ],
      "metadata": {
        "id": "oGnLEw75YxRJ"
      },
      "execution_count": 3,
      "outputs": []
    },
    {
      "cell_type": "code",
      "source": [
        "# Menyimpan data dalam file CSV\n",
        "csv_columns = ['ID', 'Skill', 'Genre', 'Experience', 'Difficulty Rating']\n",
        "csv_file = 'dummy_data.csv'\n",
        "\n",
        "try:\n",
        "    with open(csv_file, 'w', newline='') as csvfile:\n",
        "        writer = csv.DictWriter(csvfile, fieldnames=csv_columns)\n",
        "        writer.writeheader()\n",
        "        for entry in data:\n",
        "            writer.writerow(entry)\n",
        "    print(f\"Save data as'{csv_file}'\")\n",
        "except IOError:\n",
        "    print(\"Error: Failed to save data\")"
      ],
      "metadata": {
        "colab": {
          "base_uri": "https://localhost:8080/"
        },
        "id": "-K8MJDCqY06l",
        "outputId": "f76795c4-084c-4faa-b5bc-1ff09caea5b3"
      },
      "execution_count": 5,
      "outputs": [
        {
          "output_type": "stream",
          "name": "stdout",
          "text": [
            "Save data as'dummy_data.csv'\n"
          ]
        }
      ]
    }
  ]
}